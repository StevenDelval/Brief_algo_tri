{
 "cells": [
  {
   "cell_type": "markdown",
   "id": "717ac397",
   "metadata": {},
   "source": [
    "# Les algorithmes de tri\n",
    "\n",
    "## Écriture et tests de deux algorithmes de tri\n",
    "\n",
    "Les algorithmes de tri sont un grand classique dans l’apprentissage de l'algorithmique. Ils permettent de découvrir la notion de complexité algorithmique, mais surtout, sont accessibles sans connaissances compliquées. (Ils n'utilisent que de simples boucles for et while, des instructions if, et des méthodes des listes que vous connaissez)\n",
    "\n",
    "L'objectif du jour est donc de créer deux fonctions qui prendront en paramètre une liste, et renverront cette liste triée. Il existe de nombreux algorithmes de tri, nous allons essayer d'en couvrir un maximum. Chaque groupe aura donc deux algorithmes à travailler.\n",
    "\n",
    "**Attention :** Pensez bien à travailler avec une copie de la liste ! (voir utilisation de la méthode copy() des listes)"
   ]
  },
  {
   "cell_type": "code",
   "execution_count": null,
   "id": "c47e3514",
   "metadata": {},
   "outputs": [],
   "source": [
    "# Tri par insertion\n",
    "\n",
    "\n",
    "def tri_par_insertion(liste_a_trier):\n",
    "    \"\"\"\n",
    "    Fonction qui trie une liste par ordre croissant\n",
    "    :param liste_a_trier: (list) Une liste de nombre à trier\n",
    "    :return: (list) la liste triée\n",
    "    \"\"\"\n",
    "    for i in range(1,len(liste_a_trier)):\n",
    "        valeur = liste_a_trier[i]\n",
    "        j=i\n",
    "        while j>0 and liste_a_trier[j-1]>valeur:\n",
    "            liste_a_trier[j]=liste_a_trier[j-1]\n",
    "            j=j-1\n",
    "            liste_a_trier[j]=valeur\n",
    "    return liste_a_trier\n",
    "\n",
    "\n"
   ]
  },
  {
   "cell_type": "code",
   "execution_count": null,
   "id": "b3cc38e6",
   "metadata": {},
   "outputs": [],
   "source": [
    "# Tri à peigne\n",
    "import math \n",
    "def tri_peigne(liste_a_trier):\n",
    "    \"\"\"\n",
    "    Fonction qui trie une liste par ordre croissant\n",
    "    :param liste_a_trier: (list) Une liste de nombre à trier\n",
    "    :return: (list) la liste triée\n",
    "    \"\"\"\n",
    "    permutation = True\n",
    "    ecartement = len(liste_a_trier)\n",
    "    while permutation or (ecartement>1):\n",
    "        permutation = False\n",
    "        ecartement = math.floor(ecartement / 1.3)\n",
    "        if ecartement<1: \n",
    "            ecartement = 1\n",
    "        for en_cours in range(0, len(liste_a_trier) - ecartement):\n",
    "            if liste_a_trier[en_cours] > liste_a_trier[en_cours + ecartement]:\n",
    "                permutation = True\n",
    "                # On echange les deux elements\n",
    "                liste_a_trier[en_cours], liste_a_trier[en_cours + ecartement] = \\\n",
    "                liste_a_trier[en_cours + ecartement],liste_a_trier[en_cours]\n",
    "    return liste_a_trier"
   ]
  },
  {
   "cell_type": "markdown",
   "id": "58538aef",
   "metadata": {},
   "source": [
    "Pour tester vos fonctions, vous pouvez exécuter la cellule suivante :"
   ]
  },
  {
   "cell_type": "code",
   "execution_count": null,
   "id": "1804a02d",
   "metadata": {},
   "outputs": [],
   "source": [
    "from random import randint, seed\n",
    "\n",
    "def test_tri(liste):\n",
    "    \"\"\"\n",
    "    Fonction qui teste vos fonctions tri et tri2.\n",
    "    \"\"\"\n",
    "    test_liste = liste[:]\n",
    "    test_liste.sort()\n",
    "    print(\"Votre fonction tri renvoie :\")\n",
    "    print(tri_par_insertion(liste))\n",
    "    if test_liste == tri_par_insertion(liste):\n",
    "        print(\"\\033[92m\" + \"Votre fonction tri fonctionne !\" + \"\\033[0m\")\n",
    "    else:\n",
    "        print(\"\\033[91m\" + \"votre fonction tri ne fonctionne pas\" + \"\\033[0m\")\n",
    "    \n",
    "    print(\"----------\")\n",
    "    \n",
    "    print(\"Votre fonction tri2 renvoie :\")\n",
    "    print(tri_peigne(liste))\n",
    "    if test_liste == tri_peigne(liste):\n",
    "        print(\"\\033[92m\" + \"Votre fonction tri2 fonctionne !\" + \"\\033[0m\")\n",
    "    else:\n",
    "        print(\"\\033[91m\" + \"votre fonction tri2 ne fonctionne pas\" + \"\\033[0m\")\n",
    "    \n",
    "\n",
    "\n",
    "liste = [0, -6, 78, 76, 1, 9, 15, 999, 1234, 3, -777, 123, 6, 6]\n",
    "test_tri(liste)\n"
   ]
  },
  {
   "cell_type": "markdown",
   "id": "9ed00720",
   "metadata": {},
   "source": [
    "## Comparaison entre les algorithmes\n",
    "\n",
    "Pour tester quel algorithme est le plus rapide, et dans quelles situations, nous allons les utiliser sur 3 listes qui représentent 3 cas courants. Le premier est une liste triée, par ordre décroissant. La deuxième, une liste déjà triée, et la 3ème, une liste aléatoire."
   ]
  },
  {
   "cell_type": "code",
   "execution_count": null,
   "id": "fb262032",
   "metadata": {},
   "outputs": [],
   "source": [
    "seed(1234567890) # Création de la seed (Permet de générer toujours les mêmes nombres aléatoires à chaque execution)\n",
    "liste1 = [5000 - i for i in range(5000)] # Liste classée par ordre décroissant\n",
    "liste2 = [i*3 for i in range(5000)] # Liste déjà triée\n",
    "liste3 = [randint(0, 10000) for _ in range(5000)] # Liste aléatoire"
   ]
  },
  {
   "cell_type": "markdown",
   "id": "69c3b000",
   "metadata": {},
   "source": [
    "À l'aide du module time, mesurez combien de temps met l'ordinateur pour trier la liste 1 avec votre fonction tri().\n",
    "Répétez plusieurs fois la mesure. Qu'observez-vous ?"
   ]
  },
  {
   "cell_type": "code",
   "execution_count": null,
   "id": "f3238054",
   "metadata": {},
   "outputs": [],
   "source": [
    "# Écrire ici le code permettant de mesurer le temps d'exécution de votre fonction tri()\n",
    "from time import process_time_ns\n",
    "\n",
    "mesure_avant=process_time_ns()\n",
    "tri_peigne(liste1)\n",
    "mesure_apres=process_time_ns()\n",
    "temps_mis_execution= mesure_apres - mesure_avant\n",
    "print(\"le tri à peigne a mis\",temps_mis_execution,\"nanosecondes\")\n",
    "\n",
    "\n",
    "mesure_avant=process_time_ns()\n",
    "tri_par_insertion(liste1)\n",
    "mesure_apres=process_time_ns()\n",
    "temps_mis_execution= mesure_apres - mesure_avant\n",
    "print(\"Le tri par insertion a mis\",temps_mis_execution,\"nanosecondes\")\n",
    "\n",
    "\n"
   ]
  },
  {
   "cell_type": "markdown",
   "id": "b31666ea",
   "metadata": {},
   "source": [
    "L'ordinateur ayant beaucoup de tâches en arrière plan, le temps d'éxécution peut varier en fonction de celles-ci. Par exemple, si l'antivirus lance un scan pendant l'exécution de notre code, celui-ci peut être ralenti.\n",
    "\n",
    "Afin de limiter l'influence des programmes extérieur sur la mesure du temps de notre programme, il est possible de répéter 100x la mesure, et calculer le temps d'exécution moyen."
   ]
  },
  {
   "cell_type": "code",
   "execution_count": null,
   "id": "cd52b47b",
   "metadata": {},
   "outputs": [],
   "source": [
    "# Écrire ici le code permettant calculer le temps moyen d'exécution de la fonction tri()\n",
    "# après 100 essais avec la liste1\n",
    "import statistics\n",
    "\n",
    "\n",
    "temps_de_realisation_peigne=[]\n",
    "temps_de_realisation_insertion=[]\n",
    "\n",
    "\n",
    "for i in range(500):\n",
    "    mesure_avant=process_time_ns()\n",
    "    tri_peigne(liste1)\n",
    "    mesure_apres=process_time_ns()\n",
    "    temps_de_realisation_peigne.append(mesure_apres - mesure_avant)\n",
    "moyenne_peinge = statistics.mean(temps_de_realisation_peigne)\n",
    "print(\"Temps moyen d'execution du tri à peigne : {} nanoseconde\".format(moyenne_peinge))\n",
    "\n",
    "\n",
    "for i in range(500):\n",
    "    mesure_avant=process_time_ns()\n",
    "    tri_peigne(liste1)\n",
    "    mesure_apres=process_time_ns()\n",
    "    temps_de_realisation_insertion.append(mesure_apres - mesure_avant)\n",
    "moyenne_insertion = statistics.mean(temps_de_realisation_insertion)\n",
    "print(\"Temps moyen d'execution du tri par insertion : {} nanoseconde\".format(moyenne_insertion))\n"
   ]
  },
  {
   "cell_type": "markdown",
   "id": "c6c2c91c",
   "metadata": {},
   "source": [
    "Maintenant, réalisez à nouveau cette mesure du temps moyen, mais sur les listes \"liste2\" et \"liste3\"\n",
    "\n",
    "Observez-vous des différences significatives dans ces temps d'exécution ?"
   ]
  },
  {
   "cell_type": "code",
   "execution_count": null,
   "id": "539ad53c",
   "metadata": {},
   "outputs": [],
   "source": [
    "# Écrire ici le code permettant calculer le temps moyen d'exécution de la fonction tri()\n",
    "# après 100 essais avec la liste2 puis la liste3\n",
    "temps_de_realisation_peigne=[]\n",
    "temps_de_realisation_insertion=[]\n",
    "\n",
    "\n",
    "for i in range(500):\n",
    "    mesure_avant=process_time_ns()\n",
    "    tri_peigne(liste2)\n",
    "    mesure_apres=process_time_ns()\n",
    "    temps_de_realisation_peigne.append(mesure_apres - mesure_avant)\n",
    "moyenne_peinge = statistics.mean(temps_de_realisation_peigne)\n",
    "print(\"Temps moyen d'execution du tri à peigne  pour la liste 2: {} nanoseconde\".format(moyenne_peinge))\n",
    "\n",
    "\n",
    "for i in range(500):\n",
    "    mesure_avant=process_time_ns()\n",
    "    tri_peigne(liste2)\n",
    "    mesure_apres=process_time_ns()\n",
    "    temps_de_realisation_insertion.append(mesure_apres - mesure_avant)\n",
    "moyenne_insertion = statistics.mean(temps_de_realisation_insertion)\n",
    "print(\"Temps moyen d'execution du tri par insertion pour la liste 2 : {} nanoseconde\".format(moyenne_insertion))\n",
    "\n",
    "\n",
    "temps_de_realisation_peigne=[]\n",
    "temps_de_realisation_insertion=[]\n",
    "\n",
    "\n",
    "for i in range(500):\n",
    "    mesure_avant=process_time_ns()\n",
    "    tri_peigne(liste3)\n",
    "    mesure_apres=process_time_ns()\n",
    "    temps_de_realisation_peigne.append(mesure_apres - mesure_avant)\n",
    "moyenne_peinge = statistics.mean(temps_de_realisation_peigne)\n",
    "print(\"Temps moyen d'execution du tri à peigne  pour la liste 3: {} nanoseconde\".format(moyenne_peinge))\n",
    "\n",
    "\n",
    "for i in range(500):\n",
    "    mesure_avant=process_time_ns()\n",
    "    tri_peigne(liste3)\n",
    "    mesure_apres=process_time_ns()\n",
    "    temps_de_realisation_insertion.append(mesure_apres - mesure_avant)\n",
    "moyenne_insertion = statistics.mean(temps_de_realisation_insertion)\n",
    "print(\"Temps moyen d'execution du tri par insertion pour la liste 3 : {} nanoseconde\".format(moyenne_insertion))\n",
    "\n"
   ]
  },
  {
   "cell_type": "markdown",
   "id": "6fd2c2ee",
   "metadata": {},
   "source": [
    "Maintenant, effectuez ces mesures pour la fonction tri2().\n",
    "\n",
    "Un algorithme est-il plus rapide que l'autre ? Est-il plus rapide dans toutes les situations ?"
   ]
  }
 ],
 "metadata": {
  "kernelspec": {
   "display_name": "Python 3.10.5 64-bit",
   "language": "python",
   "name": "python3"
  },
  "language_info": {
   "codemirror_mode": {
    "name": "ipython",
    "version": 3
   },
   "file_extension": ".py",
   "mimetype": "text/x-python",
   "name": "python",
   "nbconvert_exporter": "python",
   "pygments_lexer": "ipython3",
   "version": "3.10.5"
  },
  "vscode": {
   "interpreter": {
    "hash": "0a3d12d03848decf32f0af85a288c25571f4b264f34801d1ee29ae60ddda975c"
   }
  }
 },
 "nbformat": 4,
 "nbformat_minor": 5
}
